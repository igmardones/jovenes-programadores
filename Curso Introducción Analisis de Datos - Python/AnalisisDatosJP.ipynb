{
  "nbformat": 4,
  "nbformat_minor": 0,
  "metadata": {
    "colab": {
      "provenance": []
    },
    "kernelspec": {
      "name": "python3",
      "display_name": "Python 3"
    },
    "language_info": {
      "name": "python"
    }
  },
  "cells": [
    {
      "cell_type": "code",
      "execution_count": 2,
      "metadata": {
        "colab": {
          "base_uri": "https://localhost:8080/"
        },
        "id": "QkSQn2OO3axa",
        "outputId": "e33e6342-d489-450a-95a1-e422078febf3"
      },
      "outputs": [
        {
          "output_type": "stream",
          "name": "stdout",
          "text": [
            "6\n"
          ]
        }
      ],
      "source": [
        "import statistics as st\n",
        "\n",
        "datos = [6,7,8,4,32]\n",
        "\n",
        "print(st.mode(datos))"
      ]
    },
    {
      "cell_type": "code",
      "source": [
        "import numpy as np\n",
        "\n",
        "datos = [1,2,2,3,3,4,5,9,7,5,3,8,8,7,7,11]\n",
        "1,2,2,3,3,3,4,5,5,7,7,7,8,8,9,11\n",
        "print(np.quantile(datos, 0.1))"
      ],
      "metadata": {
        "colab": {
          "base_uri": "https://localhost:8080/"
        },
        "id": "PuKqILzN4_QB",
        "outputId": "a9fce58c-32dd-4db2-a20e-700487fda3bd"
      },
      "execution_count": 9,
      "outputs": [
        {
          "output_type": "stream",
          "name": "stdout",
          "text": [
            "2.0\n"
          ]
        }
      ]
    }
  ]
}